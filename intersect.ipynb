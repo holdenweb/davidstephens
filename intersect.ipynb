{
 "cells": [
  {
   "cell_type": "code",
   "execution_count": 137,
   "metadata": {
    "collapsed": true
   },
   "outputs": [],
   "source": [
    "class Point:\n",
    "    def __init__(self, x, y):\n",
    "        self.x = x\n",
    "        self.y = y"
   ]
  },
  {
   "cell_type": "code",
   "execution_count": 138,
   "metadata": {
    "collapsed": true
   },
   "outputs": [],
   "source": [
    "def makeP(): # an easy test case used in early development\n",
    "    P = []\n",
    "    P.append(Point(-0.4, -0.8))\n",
    "    P.append(Point(-0.1, -0.7))\n",
    "    P.append(Point( 0.2, -0.3))\n",
    "    P.append(Point( 0.5,  0.2))\n",
    "    P.append(Point( 0.5,  0.4))\n",
    "    P.append(Point( 0.1,  0.7))\n",
    "    P.append(Point(-0.1,  0.5))\n",
    "    P.append(Point(-0.3,  0.3))\n",
    "    P.append(Point(-0.4,  0.2))\n",
    "    P.append(Point(-0.4, -0.3))\n",
    "    return P\n",
    "\n",
    "P = makeP()"
   ]
  },
  {
   "cell_type": "code",
   "execution_count": 139,
   "metadata": {
    "collapsed": true
   },
   "outputs": [],
   "source": [
    "import matplotlib.pyplot\n",
    "from  matplotlib.pyplot import *"
   ]
  },
  {
   "cell_type": "code",
   "execution_count": 140,
   "metadata": {
    "collapsed": true
   },
   "outputs": [],
   "source": [
    "def poly_draw(Poly, wait = False, *args, **kwargs):\n",
    "    \"\"\"plots a polygon (if enclosed within a figure()...show() clause)\"\"\"\n",
    "    if len(Poly) == 0: return\n",
    "    if len(Poly) == 1: scatter(Poly[0], 12, 'r')\n",
    "    else:\n",
    "        x = [p.x for p in Poly]\n",
    "        x.append(x[0])\n",
    "        y = [p.y for p in Poly]\n",
    "        y.append(y[0])   \n",
    "        plot(x, y, *args, **kwargs)\n"
   ]
  },
  {
   "cell_type": "code",
   "execution_count": 141,
   "metadata": {
    "collapsed": true
   },
   "outputs": [],
   "source": [
    "def poly_print(Poly):\n",
    "    if len(Poly) == 0: return\n",
    "    for j in range(len(Poly)):\n",
    "        p = Poly[j]\n",
    "        s = '('+\"{:4.2}\".format(p.x)+','+\"{:4.2}\".format(p.y)+') '\n",
    "        print(s,  end = '')\n",
    "        if j % 8 == 7: print() # newline\n",
    "    print()"
   ]
  },
  {
   "cell_type": "code",
   "execution_count": 142,
   "metadata": {
    "collapsed": true
   },
   "outputs": [],
   "source": [
    "def x_clip(Poly, x):\n",
    "    \"\"\"returns either an empty list or an ordered pair [y1, y2] (with y1 <= y2) representing the \n",
    "    restriction of the polygon to the line X = x\"\"\"\n",
    "    \n",
    "    Lx = [Poly[j].x for j in range(len(Poly))]\n",
    "    \n",
    "    xmin = min(Lx)\n",
    "    if  x < xmin: return []\n",
    "    if x == xmin:\n",
    "        y0 = [Poly[j].y for j in range(len(Poly)) if Poly[j].x == xmin]\n",
    "        return [min(y0), max(y0)]\n",
    "\n",
    "    xmax = max(Lx)\n",
    "    if x > xmax: return []\n",
    "    if x == xmax:\n",
    "        y1 = [Poly[j].y for j in range(len(Poly)) if Poly[j].x == xmax]\n",
    "        return [min(y1), max(y1)]\n",
    "     \n",
    "    # xmin < x < xmax:\n",
    "    outlist = [p.y for p in Poly if p.x == x]\n",
    "    \n",
    "    j = 0\n",
    "    while len(outlist) < 2 and j < len(Poly):\n",
    "        p = Poly[j]\n",
    "        q = Poly[(j+1) % len(Poly)]\n",
    "        if p.x < x < q.x or q.x < x < p.x:\n",
    "            t = (x - p.x) / (q.x - p.x)\n",
    "            outlist.append( (1-t) * p.y + t * q.y)\n",
    "        j += 1\n",
    "            \n",
    "    outlist.sort()\n",
    "    return outlist"
   ]
  },
  {
   "cell_type": "code",
   "execution_count": 143,
   "metadata": {
    "collapsed": true
   },
   "outputs": [],
   "source": [
    "import math\n",
    "\n",
    "sign = lambda x: math.copysign(1, x) \n",
    "\n",
    "def line_pq(p, q):\n",
    "    return [p.y - q.y, -p.x + q.x, p.x * q.y - p.y * q.x]   \n",
    "\n",
    "def image(L, p):\n",
    "    return L[0] * p.x + L[1] * p.y + L[2]\n",
    "\n",
    "def intersection_x(p, q, r, s):\n",
    "    Lpq = line_pq(p, q)\n",
    "    Lrs = line_pq(r, s)\n",
    "    ratpq = image(Lpq, r)\n",
    "    satpq = image(Lpq, s)\n",
    "    patrs = image(Lrs, p)\n",
    "    qatrs = image(Lrs, q)\n",
    "    if sign(patrs) == sign(qatrs) or sign(ratpq) == sign(satpq):\n",
    "        return []\n",
    "    else: return [(Lpq[2]*Lrs[1] - Lpq[1]*Lrs[2]) / (Lpq[0]*Lrs[1] - Lpq[1]*Lrs[0])]\n",
    "    "
   ]
  },
  {
   "cell_type": "code",
   "execution_count": 144,
   "metadata": {
    "collapsed": true
   },
   "outputs": [],
   "source": [
    "\n",
    "def same1(p, q):\n",
    "    ABS_TOL = 1.0e-6\n",
    "    return abs(p - q) < ABS_TOL\n",
    "\n",
    "def vet1(old):\n",
    "    lol = len(old)\n",
    "    if lol < 2: return old\n",
    "    nu = []\n",
    "    j = 0\n",
    "    prev = None\n",
    "    while j < lol:\n",
    "        latest = old[j]\n",
    "        if prev == None or not same1(latest, prev):\n",
    "            nu.append(latest)\n",
    "            prev = latest\n",
    "        j += 1\n",
    "    if len(nu) > 1 and same1(nu[0], nu[-1]): nu.pop()\n",
    "    return nu\n",
    "\n",
    "      "
   ]
  },
  {
   "cell_type": "code",
   "execution_count": 145,
   "metadata": {
    "collapsed": true
   },
   "outputs": [],
   "source": [
    "def create_x_sig(P, Q):\n",
    "    x_sig = []\n",
    "    for a in P: x_sig.append(a.x)\n",
    "    for b in Q: x_sig.append(b.x)\n",
    "    \n",
    "    if len(P) > 1 and len(Q) > 1:\n",
    "        for j in range(len(P)):\n",
    "            P1 = P[j]\n",
    "            P2 = P[(j+1) % len(P)]\n",
    "            for k in range(len(Q)):\n",
    "                Q1 = Q[k]\n",
    "                Q2 = Q[(k+1) % len(Q)]\n",
    "                x_sig.extend(intersection_x(P1, P2, Q1, Q2))\n",
    "    x_sig.sort()\n",
    "    return vet1(x_sig)\n",
    "            "
   ]
  },
  {
   "cell_type": "code",
   "execution_count": 146,
   "metadata": {},
   "outputs": [
    {
     "data": {
      "image/png": "[encoded data removed]",
      "text/plain": [
       "<matplotlib.figure.Figure at 0x186c7627b38>"
      ]
     },
     "metadata": {},
     "output_type": "display_data"
    }
   ],
   "source": [
    "def reflect_Y(Pin): return [Point(-p.x, p.y) for p in Pin]\n",
    "\n",
    "\n",
    "import collections\n",
    "\n",
    "def check_poly(Poly):\n",
    "    pass\n",
    "\n",
    "def convex_polygon_intersection(P, Q):\n",
    "    check_poly(P)\n",
    "    check_poly(Q)\n",
    "    x_sig = create_x_sig(P, Q)\n",
    "    outpoly = collections.deque([])\n",
    "    for x in x_sig: \n",
    "        a = x_clip(P, x)\n",
    "        b = x_clip(Q, x)\n",
    "        if not ( a == [] or b == [] or a[0] > b[1] or a[1] < b[0]):\n",
    "            lo = max(a[0],b[0])\n",
    "            hi = min(a[1],b[1])\n",
    "            if lo == hi:\n",
    "                outpoly.append(Point(x, lo))\n",
    "            else:\n",
    "                outpoly.append(Point(x, lo))\n",
    "                outpoly.appendleft(Point(x, hi))\n",
    "    return list(outpoly)\n",
    "\n",
    "P = makeP()\n",
    "Q = reflect_Y(P)\n",
    "\n",
    "figure()\n",
    "poly_draw(P)\n",
    "poly_draw(Q)\n",
    "PQ = convex_polygon_intersection(P, Q)\n",
    "poly_draw(PQ, color = 'k')\n",
    "show()"
   ]
  },
  {
   "cell_type": "code",
   "execution_count": null,
   "metadata": {
    "collapsed": true
   },
   "outputs": [],
   "source": []
  },
  {
   "cell_type": "code",
   "execution_count": null,
   "metadata": {
    "collapsed": true
   },
   "outputs": [],
   "source": []
  }
 ],
 "metadata": {
  "kernelspec": {
   "display_name": "Python 3",
   "language": "python",
   "name": "python3"
  },
  "language_info": {
   "codemirror_mode": {
    "name": "ipython",
    "version": 3
   },
   "file_extension": ".py",
   "mimetype": "text/x-python",
   "name": "python",
   "nbconvert_exporter": "python",
   "pygments_lexer": "ipython3",
   "version": "3.6.2"
  }
 },
 "nbformat": 4,
 "nbformat_minor": 2
}
