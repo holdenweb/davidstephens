{
 "cells": [
  {
   "cell_type": "markdown",
   "metadata": {},
   "source": [
    "it will be useful to have a cheap-and-cheerful way of inputting simple tunes.\n",
    "\n",
    "C2C2G2G2AB<C>AG2 F2E2D2C2\n",
    "    \n"
   ]
  },
  {
   "cell_type": "code",
   "execution_count": 1,
   "metadata": {},
   "outputs": [],
   "source": [
    "octave = 4 # global var tracking 'reference octave'\n",
    "\n",
    "\n",
    "def midi_note(letter):\n",
    "    '''returns midi note as a numerical code given letter and reference octave'''\n",
    "    note_offset = {'C': 0, 'D': 2, 'E': 4, 'F': 5, 'G': 7, 'A': 9, 'B': 11}\n",
    "    return octave * 12 + note_offset[letter]\n",
    "\n",
    "def next_note(line):\n",
    "    letters = set('ABCDEFG')\n",
    "    global octave\n",
    "    ch = line.pop(0)\n",
    "    if ch =='.':\n",
    "        return -1, 0 # end of tune\n",
    "    if ch in set('<>'): #shift reference octave up or down\n",
    "        if ch == '<':\n",
    "            octave += 1\n",
    "        else: octave += -1\n",
    "        return -1, 1\n",
    "    if ch in letters:\n",
    "        note = midi_note(ch)\n",
    "        if line and line[0] in set('+-'): # sharp or flat\n",
    "            porm = line.pop(0)\n",
    "            if porm == '+':\n",
    "                note += 1\n",
    "            else: note += -1\n",
    "        if line and line[0] in set('123456789abcdefg'): # relative duration\n",
    "            dur = line.pop(0)\n",
    "            duration = 1 + list('123456789abcdefg').index(dur)\n",
    "        else: duration = 1\n",
    "        return note, duration\n",
    "\n",
    "def string_to_midi(tune_string):\n",
    "    tune = list(tune_string.replace(\" \", \"\"))\n",
    "    score = []\n",
    "    while tune:\n",
    "        note, duration = next_note(tune)\n",
    "        if note > 0:\n",
    "            score.append((note, duration))\n",
    "    return score\n",
    "\n",
    "score1 = string_to_midi(\"F2F2<C2C2DEFDC4 \")\n",
    "score2 = string_to_midi(\">B-2B-2A2A2G2G2F4\")\n",
    "\n"
   ]
  },
  {
   "cell_type": "code",
   "execution_count": 2,
   "metadata": {},
   "outputs": [],
   "source": [
    "import sounddevice as sd\n",
    "from math import pi\n",
    "import numpy as np\n",
    "import matplotlib.pyplot as plt"
   ]
  },
  {
   "cell_type": "code",
   "execution_count": 14,
   "metadata": {},
   "outputs": [],
   "source": [
    "\n",
    "def pitch(n):\n",
    "    return 440 * 2**((n-57)/12)\n",
    "    \n",
    "class Player:\n",
    "\n",
    "    def __init__(self, stream):\n",
    "        self.stream = stream\n",
    "        self.rate = stream.samplerate\n",
    "        self.one_sec = np.linspace(0, 440*2*pi, int(self.rate))\n",
    "        self.range = 2**30\n",
    "\n",
    "    def play_note(self, f, d):\n",
    "        \"Play a note with injected (invented) attack and decay.\"\n",
    "        s_len = int(self.rate*d)\n",
    "        t = np.linspace(0, d, s_len)\n",
    "        ad_len = int(s_len*0.05)\n",
    "        ad_mult = np.array(s_len * [1.0])\n",
    "        ad_mult[:ad_len] = np.linspace(0, 1, ad_len)\n",
    "        ad_mult[-ad_len:] = np.linspace(1, 0, ad_len)\n",
    "        samples = (self.range*np.cos(2*pi*f*t)).astype('int32')\n",
    "        self.stream.write(samples)\n",
    "        return samples\n",
    "\n",
    "with sd.OutputStream(channels=1, dtype='int32') as stream:\n",
    "    p = Player(stream)\n",
    "    for (note, duration) in score1:\n",
    "        s = p.play_note(pitch(note), 0.125 * duration)\n",
    "    for (note, duration) in score2:\n",
    "        s = p.play_note(pitch(note), 0.125 * duration)"
   ]
  },
  {
   "cell_type": "code",
   "execution_count": 19,
   "metadata": {},
   "outputs": [],
   "source": [
    "with sd.OutputStream(channels=1, dtype='int32') as stream:\n",
    "    p = Player(stream)\n",
    "    for (note, duration) in score2:\n",
    "        s = p.play_note(pitch(note), 0.125 * duration)"
   ]
  },
  {
   "cell_type": "code",
   "execution_count": 17,
   "metadata": {},
   "outputs": [
    {
     "data": {
      "text/plain": [
       "[(58, 2), (58, 2), (57, 2), (57, 2), (55, 2), (55, 2), (53, 4)]"
      ]
     },
     "execution_count": 17,
     "metadata": {},
     "output_type": "execute_result"
    }
   ],
   "source": [
    "score2"
   ]
  },
  {
   "cell_type": "code",
   "execution_count": null,
   "metadata": {},
   "outputs": [],
   "source": []
  },
  {
   "cell_type": "code",
   "execution_count": null,
   "metadata": {},
   "outputs": [],
   "source": []
  }
 ],
 "metadata": {
  "kernelspec": {
   "display_name": "Python 3",
   "language": "python",
   "name": "python3"
  },
  "language_info": {
   "codemirror_mode": {
    "name": "ipython",
    "version": 3
   },
   "file_extension": ".py",
   "mimetype": "text/x-python",
   "name": "python",
   "nbconvert_exporter": "python",
   "pygments_lexer": "ipython3",
   "version": "3.7.3"
  }
 },
 "nbformat": 4,
 "nbformat_minor": 2
}
